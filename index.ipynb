{
 "cells": [
  {
   "cell_type": "markdown",
   "metadata": {},
   "source": [
    "# Working with Known JSON Schemas - Lab"
   ]
  },
  {
   "cell_type": "markdown",
   "metadata": {},
   "source": [
    "## Introduction\n",
    "In this lab, you'll practice working with JSON files whose schema you know beforehand."
   ]
  },
  {
   "cell_type": "markdown",
   "metadata": {},
   "source": [
    "## Objectives\n",
    "You will be able to:\n",
    "* Use the JSON module to load and parse JSON documents\n",
    "* Write data to predefined JSON schemas\n",
    "* Convert JSON to a pandas dataframe"
   ]
  },
  {
   "cell_type": "markdown",
   "metadata": {},
   "source": [
    "## Reading a JSON Schema\n",
    "\n",
    "Here's the JSON schema provided for a section of the NY Times API:\n",
    "<img src=\"images/nytimes_movie_schema.png\" width=500>\n",
    "\n",
    "or a fully expanded view:\n",
    "\n",
    "<img src=\"images/nytimes_movie_schema_detailed.png\" width=500>\n",
    "\n",
    "You can more about the documentation [here](https://developer.nytimes.com/docs/movie-reviews-api/1/routes/reviews/%7Btype%7D.json/get)."
   ]
  },
  {
   "cell_type": "markdown",
   "metadata": {},
   "source": [
    "You can see that the master structure is a dictionary and has a key named 'response'. This is also a dictionary and has two keys: 'data' and 'meta'. As you continue to examine the schema hierarchy, you'll notice the vast majority, in this case, are dictionaries. "
   ]
  },
  {
   "cell_type": "markdown",
   "metadata": {},
   "source": [
    "## Loading the Data File\n",
    "\n",
    "Start by importing the json file. The sample response from the api is stored in a file **ny_times_movies.json**"
   ]
  },
  {
   "cell_type": "code",
   "execution_count": 28,
   "metadata": {},
   "outputs": [
    {
     "name": "stdout",
     "output_type": "stream",
     "text": [
      "dict_keys(['status', 'copyright', 'has_more', 'num_results', 'results']) <class 'dict'>\n",
      "status <class 'str'>\n",
      "copyright <class 'str'>\n",
      "has_more <class 'str'>\n",
      "num_results <class 'str'>\n",
      "results <class 'str'>\n"
     ]
    },
    {
     "data": {
      "text/plain": [
       "20"
      ]
     },
     "execution_count": 28,
     "metadata": {},
     "output_type": "execute_result"
    }
   ],
   "source": [
    "#Your code here\n",
    "import json\n",
    "file = open('ny_times_movies.json', 'r')\n",
    "data = json.load(file)\n",
    "print(data. keys(), type(data))\n",
    "for dic in data:\n",
    "    print(dic, type(dic))\n",
    "len(data['results'])"
   ]
  },
  {
   "cell_type": "markdown",
   "metadata": {},
   "source": [
    "## Loading Specific Data\n",
    "\n",
    "Create a DataFrame of the major data container within the json file, listed under the 'results' heading in the schema above."
   ]
  },
  {
   "cell_type": "code",
   "execution_count": 73,
   "metadata": {},
   "outputs": [
    {
     "data": {
      "text/html": [
       "<div>\n",
       "<style scoped>\n",
       "    .dataframe tbody tr th:only-of-type {\n",
       "        vertical-align: middle;\n",
       "    }\n",
       "\n",
       "    .dataframe tbody tr th {\n",
       "        vertical-align: top;\n",
       "    }\n",
       "\n",
       "    .dataframe thead th {\n",
       "        text-align: right;\n",
       "    }\n",
       "</style>\n",
       "<table border=\"1\" class=\"dataframe\">\n",
       "  <thead>\n",
       "    <tr style=\"text-align: right;\">\n",
       "      <th></th>\n",
       "      <th>display_title</th>\n",
       "      <th>mpaa_rating</th>\n",
       "      <th>critics_pick</th>\n",
       "      <th>byline</th>\n",
       "      <th>headline</th>\n",
       "      <th>summary_short</th>\n",
       "      <th>publication_date</th>\n",
       "      <th>opening_date</th>\n",
       "      <th>date_updated</th>\n",
       "      <th>link</th>\n",
       "      <th>multimedia</th>\n",
       "    </tr>\n",
       "  </thead>\n",
       "  <tbody>\n",
       "    <tr>\n",
       "      <td>17</td>\n",
       "      <td>Sadie</td>\n",
       "      <td></td>\n",
       "      <td>0</td>\n",
       "      <td>KEN JAWOROWSKI</td>\n",
       "      <td>Review: The Drama ‘Sadie’ Finds a Teenager in ...</td>\n",
       "      <td>The film stars Sophia Mitri Schloss as the tit...</td>\n",
       "      <td>2018-10-11</td>\n",
       "      <td>2018-10-12</td>\n",
       "      <td>2018-10-11 11:04:07</td>\n",
       "      <td>{'type': 'article', 'url': 'http://www.nytimes...</td>\n",
       "      <td>{'type': 'mediumThreeByTwo210', 'src': 'https:...</td>\n",
       "    </tr>\n",
       "    <tr>\n",
       "      <td>18</td>\n",
       "      <td>After Everything</td>\n",
       "      <td></td>\n",
       "      <td>0</td>\n",
       "      <td>TEO BUGBEE</td>\n",
       "      <td>Review: In ‘After Everything,’ a Young Love Bl...</td>\n",
       "      <td>This cancer drama focuses less on the high sta...</td>\n",
       "      <td>2018-10-11</td>\n",
       "      <td>2018-10-12</td>\n",
       "      <td>2018-10-17 02:44:18</td>\n",
       "      <td>{'type': 'article', 'url': 'http://www.nytimes...</td>\n",
       "      <td>{'type': 'mediumThreeByTwo210', 'src': 'https:...</td>\n",
       "    </tr>\n",
       "    <tr>\n",
       "      <td>19</td>\n",
       "      <td>First Man</td>\n",
       "      <td>PG-13</td>\n",
       "      <td>0</td>\n",
       "      <td>A.O. SCOTT</td>\n",
       "      <td>Review: ‘First Man’ Takes a Giant Leap for Man...</td>\n",
       "      <td>Damien Chazelle’s sweeping and intimate yet un...</td>\n",
       "      <td>2018-10-10</td>\n",
       "      <td>2018-10-12</td>\n",
       "      <td>2018-10-17 02:44:18</td>\n",
       "      <td>{'type': 'article', 'url': 'http://www.nytimes...</td>\n",
       "      <td>{'type': 'mediumThreeByTwo210', 'src': 'https:...</td>\n",
       "    </tr>\n",
       "  </tbody>\n",
       "</table>\n",
       "</div>"
      ],
      "text/plain": [
       "       display_title mpaa_rating  critics_pick          byline  \\\n",
       "17             Sadie                         0  KEN JAWOROWSKI   \n",
       "18  After Everything                         0      TEO BUGBEE   \n",
       "19         First Man       PG-13             0      A.O. SCOTT   \n",
       "\n",
       "                                             headline  \\\n",
       "17  Review: The Drama ‘Sadie’ Finds a Teenager in ...   \n",
       "18  Review: In ‘After Everything,’ a Young Love Bl...   \n",
       "19  Review: ‘First Man’ Takes a Giant Leap for Man...   \n",
       "\n",
       "                                        summary_short publication_date  \\\n",
       "17  The film stars Sophia Mitri Schloss as the tit...       2018-10-11   \n",
       "18  This cancer drama focuses less on the high sta...       2018-10-11   \n",
       "19  Damien Chazelle’s sweeping and intimate yet un...       2018-10-10   \n",
       "\n",
       "   opening_date         date_updated  \\\n",
       "17   2018-10-12  2018-10-11 11:04:07   \n",
       "18   2018-10-12  2018-10-17 02:44:18   \n",
       "19   2018-10-12  2018-10-17 02:44:18   \n",
       "\n",
       "                                                 link  \\\n",
       "17  {'type': 'article', 'url': 'http://www.nytimes...   \n",
       "18  {'type': 'article', 'url': 'http://www.nytimes...   \n",
       "19  {'type': 'article', 'url': 'http://www.nytimes...   \n",
       "\n",
       "                                           multimedia  \n",
       "17  {'type': 'mediumThreeByTwo210', 'src': 'https:...  \n",
       "18  {'type': 'mediumThreeByTwo210', 'src': 'https:...  \n",
       "19  {'type': 'mediumThreeByTwo210', 'src': 'https:...  "
      ]
     },
     "execution_count": 73,
     "metadata": {},
     "output_type": "execute_result"
    }
   ],
   "source": [
    "#Your code here\n",
    "import pandas as pd\n",
    "df = pd.DataFrame(data['results'])\n",
    "df.tail(3)"
   ]
  },
  {
   "cell_type": "markdown",
   "metadata": {},
   "source": [
    "## How many unique critics are there?"
   ]
  },
  {
   "cell_type": "code",
   "execution_count": 38,
   "metadata": {},
   "outputs": [
    {
     "data": {
      "text/plain": [
       "20"
      ]
     },
     "execution_count": 38,
     "metadata": {},
     "output_type": "execute_result"
    }
   ],
   "source": [
    "#Your code here\n",
    "df.byline.nunique()"
   ]
  },
  {
   "cell_type": "markdown",
   "metadata": {},
   "source": [
    "## Create a new column for the review's url. Title the column 'review_url'"
   ]
  },
  {
   "cell_type": "code",
   "execution_count": 87,
   "metadata": {},
   "outputs": [
    {
     "data": {
      "text/html": [
       "<div>\n",
       "<style scoped>\n",
       "    .dataframe tbody tr th:only-of-type {\n",
       "        vertical-align: middle;\n",
       "    }\n",
       "\n",
       "    .dataframe tbody tr th {\n",
       "        vertical-align: top;\n",
       "    }\n",
       "\n",
       "    .dataframe thead th {\n",
       "        text-align: right;\n",
       "    }\n",
       "</style>\n",
       "<table border=\"1\" class=\"dataframe\">\n",
       "  <thead>\n",
       "    <tr style=\"text-align: right;\">\n",
       "      <th></th>\n",
       "      <th>display_title</th>\n",
       "      <th>mpaa_rating</th>\n",
       "      <th>critics_pick</th>\n",
       "      <th>byline</th>\n",
       "      <th>headline</th>\n",
       "      <th>summary_short</th>\n",
       "      <th>publication_date</th>\n",
       "      <th>opening_date</th>\n",
       "      <th>date_updated</th>\n",
       "      <th>link</th>\n",
       "      <th>multimedia</th>\n",
       "      <th>URL_link</th>\n",
       "    </tr>\n",
       "  </thead>\n",
       "  <tbody>\n",
       "    <tr>\n",
       "      <td>0</td>\n",
       "      <td>Can You Ever Forgive Me</td>\n",
       "      <td>R</td>\n",
       "      <td>1</td>\n",
       "      <td>A.O. SCOTT</td>\n",
       "      <td>Review: Melissa McCarthy Is Criminally Good in...</td>\n",
       "      <td>Marielle Heller directs a true story of litera...</td>\n",
       "      <td>2018-10-16</td>\n",
       "      <td>2018-10-19</td>\n",
       "      <td>2018-10-17 02:44:23</td>\n",
       "      <td>{'type': 'article', 'url': 'http://www.nytimes...</td>\n",
       "      <td>{'type': 'mediumThreeByTwo210', 'src': 'https:...</td>\n",
       "      <td>http://www.nytimes.com/2018/10/16/movies/can-y...</td>\n",
       "    </tr>\n",
       "    <tr>\n",
       "      <td>1</td>\n",
       "      <td>Charm City</td>\n",
       "      <td></td>\n",
       "      <td>1</td>\n",
       "      <td>BEN KENIGSBERG</td>\n",
       "      <td>Review: ‘Charm City’ Vividly Captures the Stre...</td>\n",
       "      <td>Marilyn Ness’s documentary is dedicated to the...</td>\n",
       "      <td>2018-10-16</td>\n",
       "      <td>2018-04-22</td>\n",
       "      <td>2018-10-16 11:04:03</td>\n",
       "      <td>{'type': 'article', 'url': 'http://www.nytimes...</td>\n",
       "      <td>{'type': 'mediumThreeByTwo210', 'src': 'https:...</td>\n",
       "      <td>http://www.nytimes.com/2018/10/16/movies/charm...</td>\n",
       "    </tr>\n",
       "    <tr>\n",
       "      <td>2</td>\n",
       "      <td>Horn from the Heart: The Paul Butterfield Story</td>\n",
       "      <td></td>\n",
       "      <td>1</td>\n",
       "      <td>GLENN KENNY</td>\n",
       "      <td>Review: Paul Butterfield’s Story Is Told in ‘H...</td>\n",
       "      <td>A documentary explores the life of the blues m...</td>\n",
       "      <td>2018-10-16</td>\n",
       "      <td>2018-10-19</td>\n",
       "      <td>2018-10-16 11:04:04</td>\n",
       "      <td>{'type': 'article', 'url': 'http://www.nytimes...</td>\n",
       "      <td>{'type': 'mediumThreeByTwo210', 'src': 'https:...</td>\n",
       "      <td>http://www.nytimes.com/2018/10/16/movies/horn-...</td>\n",
       "    </tr>\n",
       "    <tr>\n",
       "      <td>3</td>\n",
       "      <td>The Price of Everything</td>\n",
       "      <td></td>\n",
       "      <td>0</td>\n",
       "      <td>A.O. SCOTT</td>\n",
       "      <td>Review: ‘The Price of Everything’ Asks $56 Bil...</td>\n",
       "      <td>This documentary examines the global art marke...</td>\n",
       "      <td>2018-10-16</td>\n",
       "      <td>2018-10-19</td>\n",
       "      <td>2018-10-16 16:08:03</td>\n",
       "      <td>{'type': 'article', 'url': 'http://www.nytimes...</td>\n",
       "      <td>{'type': 'mediumThreeByTwo210', 'src': 'https:...</td>\n",
       "      <td>http://www.nytimes.com/2018/10/16/movies/the-p...</td>\n",
       "    </tr>\n",
       "    <tr>\n",
       "      <td>4</td>\n",
       "      <td>Impulso</td>\n",
       "      <td></td>\n",
       "      <td>0</td>\n",
       "      <td>BEN KENIGSBERG</td>\n",
       "      <td>Review: ‘Impulso’ Goes Backstage With a Flamen...</td>\n",
       "      <td>This documentary follows Rocío Molina, a cutti...</td>\n",
       "      <td>2018-10-16</td>\n",
       "      <td>None</td>\n",
       "      <td>2018-10-16 11:04:03</td>\n",
       "      <td>{'type': 'article', 'url': 'http://www.nytimes...</td>\n",
       "      <td>{'type': 'mediumThreeByTwo210', 'src': 'https:...</td>\n",
       "      <td>http://www.nytimes.com/2018/10/16/movies/impul...</td>\n",
       "    </tr>\n",
       "  </tbody>\n",
       "</table>\n",
       "</div>"
      ],
      "text/plain": [
       "                                     display_title mpaa_rating  critics_pick  \\\n",
       "0                          Can You Ever Forgive Me           R             1   \n",
       "1                                       Charm City                         1   \n",
       "2  Horn from the Heart: The Paul Butterfield Story                         1   \n",
       "3                          The Price of Everything                         0   \n",
       "4                                          Impulso                         0   \n",
       "\n",
       "           byline                                           headline  \\\n",
       "0      A.O. SCOTT  Review: Melissa McCarthy Is Criminally Good in...   \n",
       "1  BEN KENIGSBERG  Review: ‘Charm City’ Vividly Captures the Stre...   \n",
       "2     GLENN KENNY  Review: Paul Butterfield’s Story Is Told in ‘H...   \n",
       "3      A.O. SCOTT  Review: ‘The Price of Everything’ Asks $56 Bil...   \n",
       "4  BEN KENIGSBERG  Review: ‘Impulso’ Goes Backstage With a Flamen...   \n",
       "\n",
       "                                       summary_short publication_date  \\\n",
       "0  Marielle Heller directs a true story of litera...       2018-10-16   \n",
       "1  Marilyn Ness’s documentary is dedicated to the...       2018-10-16   \n",
       "2  A documentary explores the life of the blues m...       2018-10-16   \n",
       "3  This documentary examines the global art marke...       2018-10-16   \n",
       "4  This documentary follows Rocío Molina, a cutti...       2018-10-16   \n",
       "\n",
       "  opening_date         date_updated  \\\n",
       "0   2018-10-19  2018-10-17 02:44:23   \n",
       "1   2018-04-22  2018-10-16 11:04:03   \n",
       "2   2018-10-19  2018-10-16 11:04:04   \n",
       "3   2018-10-19  2018-10-16 16:08:03   \n",
       "4         None  2018-10-16 11:04:03   \n",
       "\n",
       "                                                link  \\\n",
       "0  {'type': 'article', 'url': 'http://www.nytimes...   \n",
       "1  {'type': 'article', 'url': 'http://www.nytimes...   \n",
       "2  {'type': 'article', 'url': 'http://www.nytimes...   \n",
       "3  {'type': 'article', 'url': 'http://www.nytimes...   \n",
       "4  {'type': 'article', 'url': 'http://www.nytimes...   \n",
       "\n",
       "                                          multimedia  \\\n",
       "0  {'type': 'mediumThreeByTwo210', 'src': 'https:...   \n",
       "1  {'type': 'mediumThreeByTwo210', 'src': 'https:...   \n",
       "2  {'type': 'mediumThreeByTwo210', 'src': 'https:...   \n",
       "3  {'type': 'mediumThreeByTwo210', 'src': 'https:...   \n",
       "4  {'type': 'mediumThreeByTwo210', 'src': 'https:...   \n",
       "\n",
       "                                            URL_link  \n",
       "0  http://www.nytimes.com/2018/10/16/movies/can-y...  \n",
       "1  http://www.nytimes.com/2018/10/16/movies/charm...  \n",
       "2  http://www.nytimes.com/2018/10/16/movies/horn-...  \n",
       "3  http://www.nytimes.com/2018/10/16/movies/the-p...  \n",
       "4  http://www.nytimes.com/2018/10/16/movies/impul...  "
      ]
     },
     "execution_count": 87,
     "metadata": {},
     "output_type": "execute_result"
    }
   ],
   "source": [
    "#Your code here\n",
    "df['URL_link'] = df.link.map(lambda x: x['url'])\n",
    "# for article in df:\n",
    "#     print(article['link'])\n",
    "#     print(df.index(article))\n",
    "df.head()"
   ]
  },
  {
   "cell_type": "markdown",
   "metadata": {},
   "source": [
    "## How many results are in the file?"
   ]
  },
  {
   "cell_type": "code",
   "execution_count": 88,
   "metadata": {},
   "outputs": [
    {
     "data": {
      "text/plain": [
       "20"
      ]
     },
     "execution_count": 88,
     "metadata": {},
     "output_type": "execute_result"
    }
   ],
   "source": [
    "#Your code here\n",
    "len(df)"
   ]
  },
  {
   "cell_type": "markdown",
   "metadata": {},
   "source": [
    "## Summary\n",
    "Well done! Here you continued to gather practice extracting data from JSON files and transforming them into our standard tool of Pandas DataFrames."
   ]
  }
 ],
 "metadata": {
  "kernelspec": {
   "display_name": "Python 3",
   "language": "python",
   "name": "python3"
  },
  "language_info": {
   "codemirror_mode": {
    "name": "ipython",
    "version": 3
   },
   "file_extension": ".py",
   "mimetype": "text/x-python",
   "name": "python",
   "nbconvert_exporter": "python",
   "pygments_lexer": "ipython3",
   "version": "3.6.9"
  },
  "toc": {
   "base_numbering": 1,
   "nav_menu": {},
   "number_sections": true,
   "sideBar": true,
   "skip_h1_title": false,
   "title_cell": "Table of Contents",
   "title_sidebar": "Contents",
   "toc_cell": false,
   "toc_position": {},
   "toc_section_display": true,
   "toc_window_display": false
  },
  "varInspector": {
   "cols": {
    "lenName": 16,
    "lenType": 16,
    "lenVar": 40
   },
   "kernels_config": {
    "python": {
     "delete_cmd_postfix": "",
     "delete_cmd_prefix": "del ",
     "library": "var_list.py",
     "varRefreshCmd": "print(var_dic_list())"
    },
    "r": {
     "delete_cmd_postfix": ") ",
     "delete_cmd_prefix": "rm(",
     "library": "var_list.r",
     "varRefreshCmd": "cat(var_dic_list()) "
    }
   },
   "types_to_exclude": [
    "module",
    "function",
    "builtin_function_or_method",
    "instance",
    "_Feature"
   ],
   "window_display": false
  }
 },
 "nbformat": 4,
 "nbformat_minor": 2
}
